{
 "cells": [
  {
   "cell_type": "code",
   "execution_count": 1,
   "metadata": {},
   "outputs": [
    {
     "name": "stdout",
     "output_type": "stream",
     "text": [
      "1.14.0\n"
     ]
    }
   ],
   "source": [
    "# TensorFlow и tf.keras\n",
    "import tensorflow as tf\n",
    "from tensorflow import keras\n",
    "\n",
    "# Вспомогательные библиотеки\n",
    "import numpy as np\n",
    "\n",
    "import os\n",
    "import skimage\n",
    "import random\n",
    "\n",
    "print(tf.__version__)\n",
    "os.environ[\"CUDA_VISIBLE_DEVICES\"]=\"-1\"   "
   ]
  },
  {
   "cell_type": "code",
   "execution_count": 2,
   "metadata": {},
   "outputs": [
    {
     "name": "stderr",
     "output_type": "stream",
     "text": [
      "WARNING: Logging before flag parsing goes to stderr.\n",
      "W0722 07:06:03.961235  6028 deprecation.py:506] From c:\\users\\nikita\\appdata\\local\\programs\\python\\python37\\lib\\site-packages\\tensorflow\\python\\ops\\init_ops.py:1251: calling VarianceScaling.__init__ (from tensorflow.python.ops.init_ops) with dtype is deprecated and will be removed in a future version.\n",
      "Instructions for updating:\n",
      "Call initializer instance with the dtype argument instead of passing it to the constructor\n"
     ]
    },
    {
     "name": "stdout",
     "output_type": "stream",
     "text": [
      "Model: \"sequential\"\n",
      "_________________________________________________________________\n",
      "Layer (type)                 Output Shape              Param #   \n",
      "=================================================================\n",
      "conv2d (Conv2D)              (None, 252, 380, 64)      1664      \n",
      "_________________________________________________________________\n",
      "zero_padding2d (ZeroPadding2 (None, 256, 384, 64)      0         \n",
      "_________________________________________________________________\n",
      "max_pooling2d (MaxPooling2D) (None, 128, 192, 64)      0         \n",
      "_________________________________________________________________\n",
      "conv2d_1 (Conv2D)            (None, 124, 188, 128)     204928    \n",
      "_________________________________________________________________\n",
      "zero_padding2d_1 (ZeroPaddin (None, 128, 192, 128)     0         \n",
      "_________________________________________________________________\n",
      "max_pooling2d_1 (MaxPooling2 (None, 64, 96, 128)       0         \n",
      "_________________________________________________________________\n",
      "conv2d_2 (Conv2D)            (None, 60, 92, 256)       819456    \n",
      "_________________________________________________________________\n",
      "zero_padding2d_2 (ZeroPaddin (None, 64, 96, 256)       0         \n",
      "_________________________________________________________________\n",
      "max_pooling2d_2 (MaxPooling2 (None, 32, 48, 256)       0         \n",
      "_________________________________________________________________\n",
      "conv2d_3 (Conv2D)            (None, 30, 46, 512)       1180160   \n",
      "_________________________________________________________________\n",
      "zero_padding2d_3 (ZeroPaddin (None, 32, 48, 512)       0         \n",
      "_________________________________________________________________\n",
      "max_pooling2d_3 (MaxPooling2 (None, 16, 24, 512)       0         \n",
      "_________________________________________________________________\n",
      "conv2d_transpose (Conv2DTran (None, 32, 48, 256)       1179904   \n",
      "_________________________________________________________________\n",
      "conv2d_transpose_1 (Conv2DTr (None, 64, 96, 86)        550486    \n",
      "_________________________________________________________________\n",
      "conv2d_transpose_2 (Conv2DTr (None, 128, 192, 29)      62379     \n",
      "_________________________________________________________________\n",
      "conv2d_transpose_3 (Conv2DTr (None, 256, 384, 1)       726       \n",
      "=================================================================\n",
      "Total params: 3,999,703\n",
      "Trainable params: 3,999,703\n",
      "Non-trainable params: 0\n",
      "_________________________________________________________________\n"
     ]
    }
   ],
   "source": [
    "model01 = keras.Sequential([\n",
    "    keras.layers.Conv2D(input_shape=(256, 384, 1), kernel_size = (5, 5), filters = 64, activation='relu'),\n",
    "    keras.layers.ZeroPadding2D(2),\n",
    "    keras.layers.MaxPool2D(pool_size = (2, 2)),\n",
    "    keras.layers.Conv2D(kernel_size = (5, 5), filters = 128, activation='relu'),\n",
    "    keras.layers.ZeroPadding2D(2),\n",
    "    keras.layers.MaxPool2D(pool_size = (2, 2)),\n",
    "    keras.layers.Conv2D(kernel_size = (5, 5), filters = 256, activation='relu'),\n",
    "    keras.layers.ZeroPadding2D(2),\n",
    "    keras.layers.MaxPool2D(pool_size = (2, 2)),\n",
    "    keras.layers.Conv2D(kernel_size = (3, 3), filters = 512, activation='relu'),\n",
    "    keras.layers.ZeroPadding2D(1),\n",
    "    keras.layers.MaxPool2D(pool_size = (2, 2)),\n",
    "    keras.layers.Conv2DTranspose(256, (3,3), strides = (2,2), activation = 'relu', padding='same'),\n",
    "    keras.layers.Conv2DTranspose(86, (5,5), strides = (2,2), activation = 'relu', padding='same'),\n",
    "    keras.layers.Conv2DTranspose(29, (5,5), strides = (2,2), activation = 'relu', padding='same'),\n",
    "    keras.layers.Conv2DTranspose(1, (5,5), strides = (2,2), activation = 'relu', padding='same'),\n",
    "    #keras.layers.\n",
    "])\n",
    "model01.summary()"
   ]
  },
  {
   "cell_type": "code",
   "execution_count": 3,
   "metadata": {},
   "outputs": [
    {
     "name": "stdout",
     "output_type": "stream",
     "text": [
      "Model: \"sequential_1\"\n",
      "_________________________________________________________________\n",
      "Layer (type)                 Output Shape              Param #   \n",
      "=================================================================\n",
      "conv2d_4 (Conv2D)            (None, 128, 192, 64)      5248      \n",
      "_________________________________________________________________\n",
      "conv2d_5 (Conv2D)            (None, 64, 96, 128)       204928    \n",
      "_________________________________________________________________\n",
      "conv2d_6 (Conv2D)            (None, 32, 48, 256)       819456    \n",
      "_________________________________________________________________\n",
      "conv2d_7 (Conv2D)            (None, 16, 24, 512)       3277312   \n",
      "_________________________________________________________________\n",
      "conv2d_8 (Conv2D)            (None, 8, 12, 1024)       4719616   \n",
      "_________________________________________________________________\n",
      "conv2d_9 (Conv2D)            (None, 4, 6, 1024)        9438208   \n",
      "_________________________________________________________________\n",
      "conv2d_10 (Conv2D)           (None, 2, 3, 1024)        9438208   \n",
      "_________________________________________________________________\n",
      "flatten (Flatten)            (None, 6144)              0         \n",
      "_________________________________________________________________\n",
      "dense (Dense)                (None, 6144)              37754880  \n",
      "_________________________________________________________________\n",
      "reshape (Reshape)            (None, 2, 3, 1024)        0         \n",
      "_________________________________________________________________\n",
      "conv2d_transpose_4 (Conv2DTr (None, 4, 6, 512)         4719104   \n",
      "_________________________________________________________________\n",
      "conv2d_transpose_5 (Conv2DTr (None, 8, 12, 256)        3277056   \n",
      "_________________________________________________________________\n",
      "conv2d_transpose_6 (Conv2DTr (None, 16, 24, 128)       819328    \n",
      "_________________________________________________________________\n",
      "conv2d_transpose_7 (Conv2DTr (None, 32, 48, 64)        204864    \n",
      "_________________________________________________________________\n",
      "conv2d_transpose_8 (Conv2DTr (None, 64, 96, 32)        51232     \n",
      "_________________________________________________________________\n",
      "conv2d_transpose_9 (Conv2DTr (None, 128, 192, 16)      12816     \n",
      "_________________________________________________________________\n",
      "conv2d_transpose_10 (Conv2DT (None, 256, 384, 1)       1297      \n",
      "_________________________________________________________________\n",
      "flatten_1 (Flatten)          (None, 98304)             0         \n",
      "=================================================================\n",
      "Total params: 74,743,553\n",
      "Trainable params: 74,743,553\n",
      "Non-trainable params: 0\n",
      "_________________________________________________________________\n"
     ]
    }
   ],
   "source": [
    "model01 = keras.Sequential([\n",
    "    keras.layers.Conv2D(input_shape=(256, 384, 1), kernel_size = (9, 9), filters = 64, activation='relu', strides = (2,2), padding='same'),\n",
    "    #keras.layers.MaxPool2D(pool_size = (2, 2)),\n",
    "    keras.layers.Conv2D(kernel_size = (5, 5), filters = 128, activation='relu', strides = (2,2), padding='same'),\n",
    "    #keras.layers.MaxPool2D(pool_size = (2, 2)),\n",
    "    keras.layers.Conv2D(kernel_size = (5, 5), filters = 256, activation='relu', strides = (2,2), padding='same'),\n",
    "    #keras.layers.MaxPool2D(pool_size = (2, 2)),\n",
    "    keras.layers.Conv2D(kernel_size = (5, 5), filters = 512, activation='relu', strides = (2,2), padding='same'),\n",
    "    keras.layers.Conv2D(kernel_size = (3, 3), filters = 1024, activation='relu', strides = (2,2), padding='same'),\n",
    "    keras.layers.Conv2D(kernel_size = (3, 3), filters = 1024, activation='relu', strides = (2,2), padding='same'),\n",
    "    keras.layers.Conv2D(kernel_size = (3, 3), filters = 1024, activation='relu', strides = (2,2), padding='same'),\n",
    "    keras.layers.Flatten(),\n",
    "    keras.layers.Dense(6144, activation='relu'),\n",
    "    keras.layers.Reshape((2,3, 1024)),\n",
    "    #keras.layers.MaxPool2D(pool_size = (2, 2)),\n",
    "    keras.layers.Conv2DTranspose(512, (3,3), strides = (2,2), activation = 'relu', padding='same'),\n",
    "    keras.layers.Conv2DTranspose(256, (5,5), strides = (2,2), activation = 'relu', padding='same'),\n",
    "    keras.layers.Conv2DTranspose(128, (5,5), strides = (2,2), activation = 'relu', padding='same'),\n",
    "    keras.layers.Conv2DTranspose(64, (5,5), strides = (2,2), activation = 'relu', padding='same'),\n",
    "    keras.layers.Conv2DTranspose(32, (5,5), strides = (2,2), activation = 'relu', padding='same'),\n",
    "    keras.layers.Conv2DTranspose(16, (5,5), strides = (2,2), activation = 'relu', padding='same'),\n",
    "    keras.layers.Conv2DTranspose(1, (9,9), strides = (2,2), activation = 'softmax', padding='same'),\n",
    "    keras.layers.Flatten()\n",
    "])\n",
    "model01.summary()"
   ]
  },
  {
   "cell_type": "code",
   "execution_count": 4,
   "metadata": {},
   "outputs": [
    {
     "name": "stdout",
     "output_type": "stream",
     "text": [
      "Model: \"sequential_2\"\n",
      "_________________________________________________________________\n",
      "Layer (type)                 Output Shape              Param #   \n",
      "=================================================================\n",
      "max_pooling2d_4 (MaxPooling2 (None, 128, 192, 1)       0         \n",
      "_________________________________________________________________\n",
      "max_pooling2d_5 (MaxPooling2 (None, 64, 96, 1)         0         \n",
      "_________________________________________________________________\n",
      "conv2d_11 (Conv2D)           (None, 32, 48, 32)        2624      \n",
      "_________________________________________________________________\n",
      "conv2d_12 (Conv2D)           (None, 16, 24, 64)        51264     \n",
      "_________________________________________________________________\n",
      "conv2d_13 (Conv2D)           (None, 8, 12, 128)        204928    \n",
      "_________________________________________________________________\n",
      "conv2d_14 (Conv2D)           (None, 4, 6, 256)         819456    \n",
      "_________________________________________________________________\n",
      "conv2d_15 (Conv2D)           (None, 2, 3, 512)         1180160   \n",
      "_________________________________________________________________\n",
      "flatten_2 (Flatten)          (None, 3072)              0         \n",
      "_________________________________________________________________\n",
      "dense_1 (Dense)              (None, 3072)              9440256   \n",
      "_________________________________________________________________\n",
      "reshape_1 (Reshape)          (None, 2, 3, 512)         0         \n",
      "_________________________________________________________________\n",
      "conv2d_transpose_11 (Conv2DT (None, 4, 6, 256)         1179904   \n",
      "_________________________________________________________________\n",
      "conv2d_transpose_12 (Conv2DT (None, 8, 12, 128)        819328    \n",
      "_________________________________________________________________\n",
      "conv2d_transpose_13 (Conv2DT (None, 16, 24, 64)        204864    \n",
      "_________________________________________________________________\n",
      "conv2d_transpose_14 (Conv2DT (None, 32, 48, 32)        51232     \n",
      "_________________________________________________________________\n",
      "conv2d_transpose_15 (Conv2DT (None, 64, 96, 16)        12816     \n",
      "_________________________________________________________________\n",
      "conv2d_transpose_16 (Conv2DT (None, 128, 192, 8)       3208      \n",
      "_________________________________________________________________\n",
      "conv2d_transpose_17 (Conv2DT (None, 256, 384, 1)       649       \n",
      "_________________________________________________________________\n",
      "flatten_3 (Flatten)          (None, 98304)             0         \n",
      "=================================================================\n",
      "Total params: 13,970,689\n",
      "Trainable params: 13,970,689\n",
      "Non-trainable params: 0\n",
      "_________________________________________________________________\n"
     ]
    }
   ],
   "source": [
    "model01 = keras.Sequential([\n",
    "    keras.layers.MaxPool2D(input_shape=(256, 384, 1), pool_size = (2, 2)),\n",
    "    keras.layers.MaxPool2D(pool_size = (2, 2)),\n",
    "    keras.layers.Conv2D(kernel_size = (9, 9), filters = 32, activation='relu', strides = (2,2), padding='same'),\n",
    "    keras.layers.Conv2D(kernel_size = (5, 5), filters = 64, activation='relu', strides = (2,2), padding='same'),\n",
    "    keras.layers.Conv2D(kernel_size = (5, 5), filters = 128, activation='relu', strides = (2,2), padding='same'),\n",
    "    keras.layers.Conv2D(kernel_size = (5, 5), filters = 256, activation='relu', strides = (2,2), padding='same'),\n",
    "    keras.layers.Conv2D(kernel_size = (3, 3), filters = 512, activation='relu', strides = (2,2), padding='same'),\n",
    "    keras.layers.Flatten(),\n",
    "    keras.layers.Dense(3072, activation='relu'),\n",
    "    keras.layers.Reshape((2,3, 512)),\n",
    "    keras.layers.Conv2DTranspose(256, (3,3), strides = (2,2), activation = 'relu', padding='same'),\n",
    "    keras.layers.Conv2DTranspose(128, (5,5), strides = (2,2), activation = 'relu', padding='same'),\n",
    "    keras.layers.Conv2DTranspose(64, (5,5), strides = (2,2), activation = 'relu', padding='same'),\n",
    "    keras.layers.Conv2DTranspose(32, (5,5), strides = (2,2), activation = 'relu', padding='same'),\n",
    "    keras.layers.Conv2DTranspose(16, (5,5), strides = (2,2), activation = 'relu', padding='same'),\n",
    "    keras.layers.Conv2DTranspose(8, (5,5), strides = (2,2), activation = 'relu', padding='same'),\n",
    "    keras.layers.Conv2DTranspose(1, (9,9), strides = (2,2), activation = 'softmax', padding='same'),\n",
    "    keras.layers.Flatten()\n",
    "    #keras.layers.\n",
    "])\n",
    "model01.summary()"
   ]
  },
  {
   "cell_type": "code",
   "execution_count": 5,
   "metadata": {},
   "outputs": [],
   "source": [
    "model01.compile(optimizer=keras.optimizers.Adadelta(lr = 0.00001),\n",
    "              loss=tf.keras.losses.MeanSquaredError(),\n",
    "              metrics=['accuracy'])"
   ]
  },
  {
   "cell_type": "code",
   "execution_count": 6,
   "metadata": {},
   "outputs": [],
   "source": [
    "def load_data(data_directory):\n",
    "    labels = []\n",
    "    images = []\n",
    "    images_directory = os.path.join(data_directory, \"image\")\n",
    "    mask_directory = os.path.join(data_directory, \"mask\")\n",
    "    file_names = os.listdir(images_directory)\n",
    "    for f in file_names:\n",
    "        images.append(skimage.data.imread(os.path.join(images_directory, f)))\n",
    "        labels.append(skimage.data.imread(os.path.join(mask_directory, f)))\n",
    "    for i in range(len(images)):\n",
    "        images[i] = images[i]/255\n",
    "        labels[i] = labels[i]/255\n",
    "    #c = list(zip(images, labels))\n",
    "    #random.shuffle(c)\n",
    "    #images, labels = zip(*c)\n",
    "    #labels= [int(i) for i in labels]\n",
    "    \n",
    "    images_train = np.array(images)\n",
    "    labels_train = np.array(labels)\n",
    "    \n",
    "    return images_train, labels_train\n",
    "\n",
    "ROOT_PATH = \"C:/Users/Nikita/Desktop/T-Systems\"\n",
    "train_data_directory = os.path.join(ROOT_PATH, \"TrainManyGray\")"
   ]
  },
  {
   "cell_type": "code",
   "execution_count": 7,
   "metadata": {},
   "outputs": [],
   "source": [
    "images_train, labels_train = load_data(train_data_directory)\n",
    "images_train = images_train.reshape(-1, 256, 384, 1)\n",
    "labels_train = labels_train.reshape(-1, 98304, 1)"
   ]
  },
  {
   "cell_type": "code",
   "execution_count": 13,
   "metadata": {},
   "outputs": [
    {
     "data": {
      "text/plain": [
       "(3000, 98304, 1)"
      ]
     },
     "execution_count": 13,
     "metadata": {},
     "output_type": "execute_result"
    }
   ],
   "source": [
    "labels_train.shape\n",
    "#import cv2\n",
    "#cv2.imshow('contours', labels_train[0].reshape(256, 384))\n",
    "#cv2.waitKey()"
   ]
  },
  {
   "cell_type": "code",
   "execution_count": 9,
   "metadata": {},
   "outputs": [],
   "source": [
    "filepath=\"D:/T-Systems/Model06_save/Epoch-{epoch:02d}-{val_accuracy:.4f}.h5\"\n",
    "checkpoint = keras.callbacks.ModelCheckpoint(filepath, batch_size = 1, monitor='val_accuracy', verbose=1, save_best_only=False, save_weights_only=False, mode='max')\n",
    "callbacks_list = [checkpoint]"
   ]
  },
  {
   "cell_type": "code",
   "execution_count": 10,
   "metadata": {},
   "outputs": [
    {
     "name": "stdout",
     "output_type": "stream",
     "text": [
      "Train on 2500 samples, validate on 500 samples\n",
      "Epoch 1/50\n"
     ]
    },
    {
     "ename": "InvalidArgumentError",
     "evalue": "Cannot update variable with shape [] using a Tensor with shape [98304], shapes must be equal.\n\t [[{{node metrics/acc/AssignAddVariableOp}}]]",
     "output_type": "error",
     "traceback": [
      "\u001b[1;31m---------------------------------------------------------------------------\u001b[0m",
      "\u001b[1;31mInvalidArgumentError\u001b[0m                      Traceback (most recent call last)",
      "\u001b[1;32m<ipython-input-10-dff0374e23a7>\u001b[0m in \u001b[0;36m<module>\u001b[1;34m\u001b[0m\n\u001b[1;32m----> 1\u001b[1;33m \u001b[0mhistory\u001b[0m \u001b[1;33m=\u001b[0m \u001b[0mmodel01\u001b[0m\u001b[1;33m.\u001b[0m\u001b[0mfit\u001b[0m\u001b[1;33m(\u001b[0m\u001b[0mimages_train\u001b[0m\u001b[1;33m,\u001b[0m \u001b[0mlabels_train\u001b[0m\u001b[1;33m,\u001b[0m \u001b[0mepochs\u001b[0m\u001b[1;33m=\u001b[0m\u001b[1;36m50\u001b[0m\u001b[1;33m,\u001b[0m \u001b[0mcallbacks\u001b[0m\u001b[1;33m=\u001b[0m\u001b[0mcallbacks_list\u001b[0m\u001b[1;33m,\u001b[0m \u001b[0mvalidation_split\u001b[0m\u001b[1;33m=\u001b[0m\u001b[1;36m0.1666\u001b[0m\u001b[1;33m,\u001b[0m \u001b[0mbatch_size\u001b[0m \u001b[1;33m=\u001b[0m \u001b[1;36m1\u001b[0m\u001b[1;33m)\u001b[0m\u001b[1;33m\u001b[0m\u001b[1;33m\u001b[0m\u001b[0m\n\u001b[0m",
      "\u001b[1;32mc:\\users\\nikita\\appdata\\local\\programs\\python\\python37\\lib\\site-packages\\tensorflow\\python\\keras\\engine\\training.py\u001b[0m in \u001b[0;36mfit\u001b[1;34m(self, x, y, batch_size, epochs, verbose, callbacks, validation_split, validation_data, shuffle, class_weight, sample_weight, initial_epoch, steps_per_epoch, validation_steps, validation_freq, max_queue_size, workers, use_multiprocessing, **kwargs)\u001b[0m\n\u001b[0;32m    778\u001b[0m           \u001b[0mvalidation_steps\u001b[0m\u001b[1;33m=\u001b[0m\u001b[0mvalidation_steps\u001b[0m\u001b[1;33m,\u001b[0m\u001b[1;33m\u001b[0m\u001b[1;33m\u001b[0m\u001b[0m\n\u001b[0;32m    779\u001b[0m           \u001b[0mvalidation_freq\u001b[0m\u001b[1;33m=\u001b[0m\u001b[0mvalidation_freq\u001b[0m\u001b[1;33m,\u001b[0m\u001b[1;33m\u001b[0m\u001b[1;33m\u001b[0m\u001b[0m\n\u001b[1;32m--> 780\u001b[1;33m           steps_name='steps_per_epoch')\n\u001b[0m\u001b[0;32m    781\u001b[0m \u001b[1;33m\u001b[0m\u001b[0m\n\u001b[0;32m    782\u001b[0m   def evaluate(self,\n",
      "\u001b[1;32mc:\\users\\nikita\\appdata\\local\\programs\\python\\python37\\lib\\site-packages\\tensorflow\\python\\keras\\engine\\training_arrays.py\u001b[0m in \u001b[0;36mmodel_iteration\u001b[1;34m(model, inputs, targets, sample_weights, batch_size, epochs, verbose, callbacks, val_inputs, val_targets, val_sample_weights, shuffle, initial_epoch, steps_per_epoch, validation_steps, validation_freq, mode, validation_in_fit, prepared_feed_values_from_dataset, steps_name, **kwargs)\u001b[0m\n\u001b[0;32m    361\u001b[0m \u001b[1;33m\u001b[0m\u001b[0m\n\u001b[0;32m    362\u001b[0m         \u001b[1;31m# Get outputs.\u001b[0m\u001b[1;33m\u001b[0m\u001b[1;33m\u001b[0m\u001b[1;33m\u001b[0m\u001b[0m\n\u001b[1;32m--> 363\u001b[1;33m         \u001b[0mbatch_outs\u001b[0m \u001b[1;33m=\u001b[0m \u001b[0mf\u001b[0m\u001b[1;33m(\u001b[0m\u001b[0mins_batch\u001b[0m\u001b[1;33m)\u001b[0m\u001b[1;33m\u001b[0m\u001b[1;33m\u001b[0m\u001b[0m\n\u001b[0m\u001b[0;32m    364\u001b[0m         \u001b[1;32mif\u001b[0m \u001b[1;32mnot\u001b[0m \u001b[0misinstance\u001b[0m\u001b[1;33m(\u001b[0m\u001b[0mbatch_outs\u001b[0m\u001b[1;33m,\u001b[0m \u001b[0mlist\u001b[0m\u001b[1;33m)\u001b[0m\u001b[1;33m:\u001b[0m\u001b[1;33m\u001b[0m\u001b[1;33m\u001b[0m\u001b[0m\n\u001b[0;32m    365\u001b[0m           \u001b[0mbatch_outs\u001b[0m \u001b[1;33m=\u001b[0m \u001b[1;33m[\u001b[0m\u001b[0mbatch_outs\u001b[0m\u001b[1;33m]\u001b[0m\u001b[1;33m\u001b[0m\u001b[1;33m\u001b[0m\u001b[0m\n",
      "\u001b[1;32mc:\\users\\nikita\\appdata\\local\\programs\\python\\python37\\lib\\site-packages\\tensorflow\\python\\keras\\backend.py\u001b[0m in \u001b[0;36m__call__\u001b[1;34m(self, inputs)\u001b[0m\n\u001b[0;32m   3290\u001b[0m \u001b[1;33m\u001b[0m\u001b[0m\n\u001b[0;32m   3291\u001b[0m     fetched = self._callable_fn(*array_vals,\n\u001b[1;32m-> 3292\u001b[1;33m                                 run_metadata=self.run_metadata)\n\u001b[0m\u001b[0;32m   3293\u001b[0m     \u001b[0mself\u001b[0m\u001b[1;33m.\u001b[0m\u001b[0m_call_fetch_callbacks\u001b[0m\u001b[1;33m(\u001b[0m\u001b[0mfetched\u001b[0m\u001b[1;33m[\u001b[0m\u001b[1;33m-\u001b[0m\u001b[0mlen\u001b[0m\u001b[1;33m(\u001b[0m\u001b[0mself\u001b[0m\u001b[1;33m.\u001b[0m\u001b[0m_fetches\u001b[0m\u001b[1;33m)\u001b[0m\u001b[1;33m:\u001b[0m\u001b[1;33m]\u001b[0m\u001b[1;33m)\u001b[0m\u001b[1;33m\u001b[0m\u001b[1;33m\u001b[0m\u001b[0m\n\u001b[0;32m   3294\u001b[0m     output_structure = nest.pack_sequence_as(\n",
      "\u001b[1;32mc:\\users\\nikita\\appdata\\local\\programs\\python\\python37\\lib\\site-packages\\tensorflow\\python\\client\\session.py\u001b[0m in \u001b[0;36m__call__\u001b[1;34m(self, *args, **kwargs)\u001b[0m\n\u001b[0;32m   1456\u001b[0m         ret = tf_session.TF_SessionRunCallable(self._session._session,\n\u001b[0;32m   1457\u001b[0m                                                \u001b[0mself\u001b[0m\u001b[1;33m.\u001b[0m\u001b[0m_handle\u001b[0m\u001b[1;33m,\u001b[0m \u001b[0margs\u001b[0m\u001b[1;33m,\u001b[0m\u001b[1;33m\u001b[0m\u001b[1;33m\u001b[0m\u001b[0m\n\u001b[1;32m-> 1458\u001b[1;33m                                                run_metadata_ptr)\n\u001b[0m\u001b[0;32m   1459\u001b[0m         \u001b[1;32mif\u001b[0m \u001b[0mrun_metadata\u001b[0m\u001b[1;33m:\u001b[0m\u001b[1;33m\u001b[0m\u001b[1;33m\u001b[0m\u001b[0m\n\u001b[0;32m   1460\u001b[0m           \u001b[0mproto_data\u001b[0m \u001b[1;33m=\u001b[0m \u001b[0mtf_session\u001b[0m\u001b[1;33m.\u001b[0m\u001b[0mTF_GetBuffer\u001b[0m\u001b[1;33m(\u001b[0m\u001b[0mrun_metadata_ptr\u001b[0m\u001b[1;33m)\u001b[0m\u001b[1;33m\u001b[0m\u001b[1;33m\u001b[0m\u001b[0m\n",
      "\u001b[1;31mInvalidArgumentError\u001b[0m: Cannot update variable with shape [] using a Tensor with shape [98304], shapes must be equal.\n\t [[{{node metrics/acc/AssignAddVariableOp}}]]"
     ]
    }
   ],
   "source": [
    "history = model01.fit(images_train, labels_train, epochs=50, callbacks=callbacks_list, validation_split=0.1666, batch_size = 1)"
   ]
  },
  {
   "cell_type": "code",
   "execution_count": null,
   "metadata": {},
   "outputs": [],
   "source": [
    "print(history.history.keys())\n",
    "plt.plot(history.history['accuracy'])\n",
    "plt.plot(history.history['val_accuracy'])\n",
    "plt.title('model accuracy')\n",
    "plt.ylabel('accuracy')\n",
    "plt.xlabel('epoch')\n",
    "plt.legend(['train', 'test'], loc='upper left')\n",
    "plt.show()"
   ]
  },
  {
   "cell_type": "code",
   "execution_count": null,
   "metadata": {},
   "outputs": [],
   "source": []
  }
 ],
 "metadata": {
  "kernelspec": {
   "display_name": "Python 3",
   "language": "python",
   "name": "python3"
  },
  "language_info": {
   "codemirror_mode": {
    "name": "ipython",
    "version": 3
   },
   "file_extension": ".py",
   "mimetype": "text/x-python",
   "name": "python",
   "nbconvert_exporter": "python",
   "pygments_lexer": "ipython3",
   "version": "3.7.4"
  }
 },
 "nbformat": 4,
 "nbformat_minor": 2
}
