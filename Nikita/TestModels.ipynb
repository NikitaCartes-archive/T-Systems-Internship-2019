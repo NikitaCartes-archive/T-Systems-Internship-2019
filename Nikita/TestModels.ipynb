{
 "cells": [
  {
   "cell_type": "code",
   "execution_count": 5,
   "metadata": {},
   "outputs": [],
   "source": [
    "from __future__ import absolute_import, division, print_function, unicode_literals\n",
    "\n",
    "# TensorFlow и tf.keras\n",
    "import tensorflow as tf\n",
    "from tensorflow import keras\n",
    "\n",
    "# Вспомогательные библиотеки\n",
    "import numpy as np\n",
    "\n",
    "import os\n",
    "import skimage\n",
    "import random"
   ]
  },
  {
   "cell_type": "code",
   "execution_count": 13,
   "metadata": {},
   "outputs": [],
   "source": [
    "def load_data(data_directory):\n",
    "    directories = [d for d in os.listdir(data_directory) \n",
    "                   if os.path.isdir(os.path.join(data_directory, d))]\n",
    "    labels = []\n",
    "    images = []\n",
    "    for d in directories:\n",
    "        label_directory = os.path.join(data_directory, d)\n",
    "        file_names = [os.path.join(label_directory, f) \n",
    "                      for f in os.listdir(label_directory) \n",
    "                      if f.endswith(\".png\")]\n",
    "        for f in file_names:\n",
    "            images.append(skimage.color.rgb2gray(skimage.transform.resize(skimage.data.imread(f), (100, 150))))\n",
    "            labels.append(d)\n",
    "    for i in range(len(images)):\n",
    "        images[i] = images[i]/255\n",
    "    c = list(zip(images, labels))\n",
    "    labels= [int(i) for i in labels]\n",
    "    \n",
    "    images_train = np.array(images)\n",
    "    labels_train = np.array(labels)\n",
    "    \n",
    "    return images_train, labels_train\n",
    "\n",
    "ROOT_PATH = \"C:/Users/Nikita/Desktop/T-Systems\"\n",
    "train_data_directory = os.path.join(ROOT_PATH, \"test\")"
   ]
  },
  {
   "cell_type": "code",
   "execution_count": 14,
   "metadata": {},
   "outputs": [
    {
     "data": {
      "text/plain": [
       "25"
      ]
     },
     "execution_count": 14,
     "metadata": {},
     "output_type": "execute_result"
    }
   ],
   "source": [
    "class_names = ['button', 'checkbox', 'radiobutton', 'slider', 'spinner', 'textfield']\n",
    "\n",
    "images_test_all = [None]*6\n",
    "labels_test_all = [None]*6\n",
    "images_test_all[0], labels_test_all[0] = load_data(os.path.join(ROOT_PATH, \"test/button\"))\n",
    "images_test_all[1], labels_test_all[1] = load_data(os.path.join(ROOT_PATH, \"test/checkbox\"))\n",
    "images_test_all[2], labels_test_all[2] = load_data(os.path.join(ROOT_PATH, \"test/radiobutton\"))\n",
    "images_test_all[3], labels_test_all[3] = load_data(os.path.join(ROOT_PATH, \"test/slider\"))\n",
    "images_test_all[4], labels_test_all[4] = load_data(os.path.join(ROOT_PATH, \"test/spinner\"))\n",
    "images_test_all[5], labels_test_all[5] = load_data(os.path.join(ROOT_PATH, \"test/textfield\"))"
   ]
  },
  {
   "cell_type": "code",
   "execution_count": null,
   "metadata": {},
   "outputs": [],
   "source": [
    "file_names = os.listdir(\"D:/T-Systems/Model03_save\")\n",
    "file_names = filter(lambda x: x.endswith('.h5'), file_names)\n",
    "\n",
    "i=1\n",
    "\n",
    "for f in file_names:\n",
    "    if i >= 1:\n",
    "        new_model = keras.models.load_model(\"D:/T-Systems/Model03_save/\" + f)\n",
    "\n",
    "        for name in range(len(class_names)):\n",
    "\n",
    "            images_test = images_test_all[name]\n",
    "\n",
    "            labels_test = labels_test_all[name]\n",
    "\n",
    "            images_test = images_test.reshape(-1, 100, 150, 1)\n",
    "\n",
    "            loss, acc = new_model.evaluate(images_test, labels_test)\n",
    "\n",
    "            print(\"Result: \" + str(f) + \" \" + class_names[name] + \" \" + str(acc))\n",
    "    i=i+1\n"
   ]
  },
  {
   "cell_type": "code",
   "execution_count": 20,
   "metadata": {},
   "outputs": [
    {
     "name": "stdout",
     "output_type": "stream",
     "text": [
      "25/25 [==============================] - 0s 2ms/sample - loss: 15.6052 - accuracy: 0.0000e+00\n",
      "Result: button 0.0\n",
      "23/23 [==============================] - 0s 2ms/sample - loss: 16.1181 - accuracy: 0.0000e+00\n",
      "Result: checkbox 0.0\n",
      "25/25 [==============================] - 0s 440us/sample - loss: 16.1181 - accuracy: 0.0000e+00\n",
      "Result: radiobutton 0.0\n",
      "25/25 [==============================] - 0s 480us/sample - loss: 0.2063 - accuracy: 0.8800\n",
      "Result: slider 0.88\n",
      "25/25 [==============================] - 0s 480us/sample - loss: 16.1181 - accuracy: 0.0000e+00\n",
      "Result: spinner 0.0\n",
      "25/25 [==============================] - 0s 440us/sample - loss: 13.8611 - accuracy: 0.0000e+00\n",
      "Result: textfield 0.0\n"
     ]
    }
   ],
   "source": [
    "new_model = keras.models.load_model(\"D:/T-Systems/Model04_save/Epoch-09-0.8302.h5\" )\n",
    "for name in range(len(class_names)):\n",
    "    images_test = images_test_all[name]\n",
    "    labels_test = labels_test_all[name]\n",
    "    images_test = images_test.reshape(-1, 100, 150, 1)\n",
    "    loss, acc = new_model.evaluate(images_test, labels_test)\n",
    "    print(\"Result: \" + class_names[name] + \" \" + str(acc))"
   ]
  },
  {
   "cell_type": "code",
   "execution_count": null,
   "metadata": {},
   "outputs": [],
   "source": []
  }
 ],
 "metadata": {
  "kernelspec": {
   "display_name": "Python 3",
   "language": "python",
   "name": "python3"
  },
  "language_info": {
   "codemirror_mode": {
    "name": "ipython",
    "version": 3
   },
   "file_extension": ".py",
   "mimetype": "text/x-python",
   "name": "python",
   "nbconvert_exporter": "python",
   "pygments_lexer": "ipython3",
   "version": "3.7.4"
  }
 },
 "nbformat": 4,
 "nbformat_minor": 2
}
