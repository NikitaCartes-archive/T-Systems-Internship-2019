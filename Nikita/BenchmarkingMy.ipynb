{
 "cells": [
  {
   "cell_type": "code",
   "execution_count": 1,
   "metadata": {},
   "outputs": [],
   "source": [
    "# TensorFlow и tf.keras\n",
    "import tensorflow as tf\n",
    "from tensorflow import keras\n",
    "\n",
    "import numpy as np\n",
    "\n",
    "import os\n",
    "import gc\n",
    "import skimage\n",
    "import random"
   ]
  },
  {
   "cell_type": "code",
   "execution_count": 2,
   "metadata": {},
   "outputs": [],
   "source": [
    "def load_data(data_directory):\n",
    "    directories = [d for d in os.listdir(data_directory) \n",
    "                   if os.path.isdir(os.path.join(data_directory, d))]\n",
    "    labels = []\n",
    "    images = []\n",
    "    for d in directories:\n",
    "        label_directory = os.path.join(data_directory, d)\n",
    "        file_names = [os.path.join(label_directory, f) \n",
    "                      for f in os.listdir(label_directory) \n",
    "                      if f.endswith(\".png\")]\n",
    "        for f in file_names:\n",
    "            images.append(skimage.data.imread(f))\n",
    "            labels.append(d)\n",
    "    for i in range(len(images)):\n",
    "        images[i] = images[i]/255\n",
    "    c = list(zip(images, labels))\n",
    "    random.shuffle(c)\n",
    "    images, labels = zip(*c)\n",
    "    labels= [int(i) for i in labels]\n",
    "    \n",
    "    return np.array(images), np.array(labels)\n",
    "\n",
    "ROOT_PATH = \"C:/Users/Nikita/Desktop/T-Systems\"\n",
    "train_data_directory = os.path.join(ROOT_PATH, \"TrainGray\")"
   ]
  },
  {
   "cell_type": "code",
   "execution_count": 3,
   "metadata": {},
   "outputs": [],
   "source": [
    "images, labels = load_data(train_data_directory)\n",
    "\n",
    "def get_data(t):\n",
    "    \n",
    "    images_test = images[t*9000:(t+1)*9000]\n",
    "    labels_test = labels[t*9000:(t+1)*9000]\n",
    "    \n",
    "    #images_test = np.array(images_test)\n",
    "    #labels_test = np.array(labels_test)\n",
    "    \n",
    "    images_train = np.concatenate((images[0:t*9000], images[(t+1)*9000:]))\n",
    "    labels_train = np.concatenate((labels[0:t*9000], labels[(t+1)*9000:]))\n",
    "    \n",
    "    return images_train, labels_train, images_test, labels_test\n",
    "\n",
    "class_names = ['button', 'checkbox', 'radiobutton', 'slider', 'spinner', 'textfield']"
   ]
  },
  {
   "cell_type": "code",
   "execution_count": null,
   "metadata": {},
   "outputs": [],
   "source": [
    "for i in range(5):\n",
    "    model = keras.Sequential([\n",
    "        keras.layers.Conv2D(input_shape=(100, 150, 1), kernel_size = (5, 5), filters = 32, activation='relu'),\n",
    "        keras.layers.MaxPool2D(pool_size = (2, 2)),\n",
    "        keras.layers.Conv2D(kernel_size = (5, 5), filters = 64, activation='relu'),\n",
    "        keras.layers.MaxPool2D(pool_size = (2, 2)),\n",
    "        keras.layers.Conv2D(kernel_size = (5, 5), filters = 128, activation='relu'),\n",
    "        keras.layers.MaxPool2D(pool_size = (2, 2)),\n",
    "        keras.layers.Conv2D(kernel_size = (5, 5), filters = 256, activation='relu'),\n",
    "        keras.layers.MaxPool2D(pool_size = (2, 2)),\n",
    "        #keras.layers.Conv2D(kernel_size = (3, 3), filters = 512, activation='relu'),\n",
    "        #keras.layers.MaxPool2D(pool_size = (2, 2)),\n",
    "        keras.layers.Flatten(),\n",
    "        keras.layers.Dense(4096, activation='relu'),\n",
    "        keras.layers.Dense(1024, activation='relu'),\n",
    "        keras.layers.Dense(256, activation='relu'),\n",
    "        keras.layers.Dense(64, activation='relu'),\n",
    "        keras.layers.Dense(6, activation='softmax')\n",
    "    ])\n",
    "    model.compile(optimizer=keras.optimizers.Adam(),\n",
    "              loss=tf.keras.losses.sparse_categorical_crossentropy,\n",
    "              metrics=['accuracy'])\n",
    "    \n",
    "    images_train, labels_train, images_test, labels_test = get_data(i)\n",
    "    \n",
    "    images_train = images_train.reshape(-1, 100, 150, 1)\n",
    "    images_test = images_test.reshape(-1, 100, 150, 1)\n",
    "    \n",
    "    model.fit(images_train, labels_train, epochs=30)\n",
    "    \n",
    "    loss, acc = model.evaluate(images_test, labels_test)\n",
    "    print(\"Result: \" + str(acc))\n",
    "    \n",
    "    del images_train\n",
    "    del labels_train\n",
    "    del images_test\n",
    "    del labels_test\n",
    "    \n",
    "    gc.collect()"
   ]
  }
 ],
 "metadata": {
  "kernelspec": {
   "display_name": "Python 3",
   "language": "python",
   "name": "python3"
  },
  "language_info": {
   "codemirror_mode": {
    "name": "ipython",
    "version": 3
   },
   "file_extension": ".py",
   "mimetype": "text/x-python",
   "name": "python",
   "nbconvert_exporter": "python",
   "pygments_lexer": "ipython3",
   "version": "3.7.4"
  }
 },
 "nbformat": 4,
 "nbformat_minor": 2
}
