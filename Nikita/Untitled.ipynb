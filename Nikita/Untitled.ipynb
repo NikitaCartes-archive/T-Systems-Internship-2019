{
 "cells": [
  {
   "cell_type": "code",
   "execution_count": 2,
   "metadata": {},
   "outputs": [],
   "source": [
    "#!/usr/bin/env python\n",
    "\n",
    "import sys\n",
    "import numpy as np\n",
    "import cv2 as cv\n",
    "\n",
    "import tensorflow as tf\n",
    "from tensorflow import keras\n",
    "\n",
    "# Вспомогательные библиотеки\n",
    "import numpy as np\n",
    "import matplotlib.pyplot as plt\n",
    "\n",
    "import os\n",
    "import skimage\n",
    "import random\n",
    "\n",
    "min = np.array((0), np.uint8)\n",
    "max = np.array((254), np.uint8)\n",
    "\n",
    "def getContours(path):\n",
    "    fn = path # имя файла, который будем анализировать\n",
    "    img = cv.imread(fn)\n",
    "    #hsv = cv.cvtColor( img, cv.COLOR_BGR2GRAY  ) # меняем цветовую модель с BGR на HSV\n",
    "    background = img[255][399]\n",
    "    hsv = img.copy()\n",
    "    for i in range(len(hsv)):\n",
    "        for j in range(len(hsv[i])):\n",
    "            if np.array_equal(hsv[i][j], background):\n",
    "                hsv[i][j] = [255,255,255]\n",
    "    #thresh = cv.inRange( hsv, hsv_min, hsv_max ) # применяем цветовой фильтр\n",
    "    thresh = cv.inRange( hsv, min, max )\n",
    "    contours0, hierarchy = cv.findContours( thresh.copy(), cv.RETR_TREE, cv.CHAIN_APPROX_SIMPLE)\n",
    "    # перебираем все найденные контуры в цикле\n",
    "    controls = []\n",
    "    arrayrect = []\n",
    "    for cnt in contours0:\n",
    "        rect = cv.boundingRect(cnt) # пытаемся вписать прямоугольник\n",
    "        if rect[2]*rect[3] < 1000:\n",
    "            continue\n",
    "        white_images = np.zeros((100, 150, 3), np.uint8)\n",
    "        white_images[:,:] = background\n",
    "        crop_img = img[rect[1]:rect[1]+rect[3], rect[0]:rect[0]+rect[2]]\n",
    "        offset = 25\n",
    "        white_images[offset:offset+rect[3], offset:offset+rect[2]] = crop_img\n",
    "        white_images = cv.resize(white_images, (64, 64))\n",
    "        white_images = white_images/255\n",
    "        controls.append(white_images)\n",
    "        arrayrect.append(rect)\n",
    "        \n",
    "        #cv.imshow('contours', white_images)\n",
    "        #cv.waitKey()\n",
    "        \n",
    "        #cv.drawContours(img,[box],0,(255,0,0),2) # рисуем прямоугольник\n",
    "    return controls, img, arrayrect\n",
    "    #cv.imshow('contours', img) # вывод обработанного кадра в окно\n",
    "\n",
    "    #cv.waitKey()\n",
    "    #cv.destroyAllWindows()"
   ]
  },
  {
   "cell_type": "code",
   "execution_count": 3,
   "metadata": {},
   "outputs": [
    {
     "name": "stderr",
     "output_type": "stream",
     "text": [
      "WARNING: Logging before flag parsing goes to stderr.\n",
      "W0722 10:15:03.568047 12280 hdf5_format.py:258] Error in loading the saved optimizer state. As a result, your model is starting with a freshly initialized optimizer.\n"
     ]
    }
   ],
   "source": [
    "model = keras.models.load_model(\"C:/Users/Nikita/Desktop/T-Systems/Many/vggnet.model\")\n",
    "class_names = ['button', 'checkbox', 'radiobutton', 'slider', 'spinner', 'textbox', 'empty']"
   ]
  },
  {
   "cell_type": "code",
   "execution_count": 4,
   "metadata": {},
   "outputs": [],
   "source": [
    "def plot_value_array_one(predictions_array,):\n",
    "  plt.grid(False)\n",
    "  plt.xticks([])\n",
    "  plt.yticks([])\n",
    "  thisplot = plt.bar(range(6), predictions_array[i], color=\"#777777\")\n",
    "  plt.ylim([0, 1])\n",
    "  predicted_label = np.argmax(predictions_array[i])\n",
    "\n",
    "  thisplot[predicted_label].set_color('blue')"
   ]
  },
  {
   "cell_type": "code",
   "execution_count": 5,
   "metadata": {},
   "outputs": [],
   "source": [
    "path = \"C:/Users/Nikita/Desktop/T-Systems/TrainMany/image/image-666.png\"\n",
    "#i=random.randint(0, 2000)\n",
    "#path = \"C:/Users/Nikita/Desktop/T-Systems/TrainMany/image/image-\" + str(i) + \".png\"\n",
    "images, img, rect = getContours(path)\n",
    "images = np.array(images).reshape(-1, 64, 64, 3)\n",
    "predictions = model.predict(images)\n",
    "possible = [0,1,2,3,5,7,8,9,10,11,12,13,15]"
   ]
  },
  {
   "cell_type": "code",
   "execution_count": 14,
   "metadata": {},
   "outputs": [
    {
     "name": "stdout",
     "output_type": "stream",
     "text": [
      "button at (106,142)\n",
      "[('button', 0.9879282), ('checkbox', 0.0005550489), ('radiobutton', 5.8081027e-06), ('slider', 6.78624e-05), ('spinner', 3.212969e-05), ('textbox', 0.0114109265)]\n"
     ]
    },
    {
     "data": {
      "image/png": "[encoded data removed]",
      "text/plain": [
       "<Figure size 1296x288 with 3 Axes>"
      ]
     },
     "metadata": {
      "needs_background": "light"
     },
     "output_type": "display_data"
    }
   ],
   "source": [
    "fig, axes = plt.subplots(1, 3)\n",
    "\n",
    "#i=random.randint(0, len(images)-1)\n",
    "i=possible[random.randint(0, len(possible)-1)]\n",
    "axes[0].imshow(img)\n",
    "\n",
    "axes[1].imshow(images[i].reshape((64, 64, 3)), cmap='gray')\n",
    "\n",
    "print(class_names[np.argmax(predictions[i])] + \" at (\" + str(rect[i][0]) + \",\" + str(rect[i][1]) + \")\")\n",
    "print(list(zip(class_names, predictions[i])))\n",
    "\n",
    "plot_value_array_one(predictions)\n",
    "\n",
    "fig.set_figheight(4)\n",
    "fig.set_figwidth(18)\n",
    "\n",
    "plt.show()"
   ]
  },
  {
   "cell_type": "code",
   "execution_count": null,
   "metadata": {},
   "outputs": [],
   "source": []
  },
  {
   "cell_type": "code",
   "execution_count": null,
   "metadata": {},
   "outputs": [],
   "source": []
  }
 ],
 "metadata": {
  "kernelspec": {
   "display_name": "Python 3",
   "language": "python",
   "name": "python3"
  },
  "language_info": {
   "codemirror_mode": {
    "name": "ipython",
    "version": 3
   },
   "file_extension": ".py",
   "mimetype": "text/x-python",
   "name": "python",
   "nbconvert_exporter": "python",
   "pygments_lexer": "ipython3",
   "version": "3.7.4"
  }
 },
 "nbformat": 4,
 "nbformat_minor": 2
}
